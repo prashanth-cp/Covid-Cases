{
 "cells": [
  {
   "cell_type": "code",
   "execution_count": 6,
   "metadata": {
    "scrolled": true
   },
   "outputs": [],
   "source": [
    "import pandas as pd\n",
    "\n",
    "data=pd.read_csv('https://data.ontario.ca/dataset/b1fef838-8784-4338-8ef9-ae7cfd405b41/resource/8b6d22e2-7065-4b0f-966f-02640be366f2/download/schoolsactivecovid.csv')\n",
    "\n",
    "data_Brampton = data[data['municipality'] == 'Brampton']\n",
    "\n",
    "filtered = data_Brampton.sort_values(['reported_date', 'school']).drop_duplicates('school', keep='last')\n",
    "\n",
    "filtered=filtered.sort_values(['school'])\n",
    "\n",
    "FinalList=filtered[['reported_date','school_board','school','total_confirmed_cases']]\n",
    "\n",
    "FinalList=FinalList.rename(str.upper, axis=1)\n",
    "\n",
    "FinalList.to_csv('No. of Covid Cases in Brampton-ON.csv',index=False)\n"
   ]
  },
  {
   "cell_type": "code",
   "execution_count": null,
   "metadata": {},
   "outputs": [],
   "source": []
  },
  {
   "cell_type": "code",
   "execution_count": null,
   "metadata": {},
   "outputs": [],
   "source": []
  }
 ],
 "metadata": {
  "kernelspec": {
   "display_name": "Python 3",
   "language": "python",
   "name": "python3"
  },
  "language_info": {
   "codemirror_mode": {
    "name": "ipython",
    "version": 3
   },
   "file_extension": ".py",
   "mimetype": "text/x-python",
   "name": "python",
   "nbconvert_exporter": "python",
   "pygments_lexer": "ipython3",
   "version": "3.7.4"
  }
 },
 "nbformat": 4,
 "nbformat_minor": 2
}
